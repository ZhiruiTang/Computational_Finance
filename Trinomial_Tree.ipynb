{
 "cells": [
  {
   "cell_type": "markdown",
   "metadata": {},
   "source": [
    "# Computational Finance I\n",
    "**Lab-Exercise No. 1**\n"
   ]
  },
  {
   "cell_type": "markdown",
   "metadata": {},
   "source": [
    "# P1: Trinomial Tree\n",
    "In the lecture we mentioned that a binomial model can be generalized to a trinomial model. In a trinomial model we need to consider three stock price developments: in one period the price increases by a factor of $u$ with the probability $p_u$, descreases by a factor of $d$ with the probability $p_d$, or remains unchanged with the probability $1−p_u −p_d$. The trinomial model can be built in a similar way to the binomial model, e.g., by matching the expectation and the variance and using $ud = 1$ we obtain:\n",
    "    $$ u = e^{\\sigma\\sqrt{2\\Delta t}}, \\quad d = e^{-\\sigma\\sqrt{2\\Delta t}}, \\quad p_d = \\left( \\frac{ e^{\\sigma\\sqrt{\\frac{\\Delta t}{2}}} - e^{r\\frac{\\Delta t}{2}} }{e^{\\sigma\\sqrt{\\frac{\\Delta t}{2}}} - e^{-\\sigma\\sqrt{\\frac{\\Delta t}{2}}}} \\right)^2, \\quad \\quad p_u = \\left( \\frac{ e^{r\\frac{\\Delta t}{2}} - e^{-\\sigma\\sqrt{\\frac{\\Delta t}{2}}}}{e^{\\sigma\\sqrt{\\frac{\\Delta t}{2}}} - e^{-\\sigma\\sqrt{\\frac{\\Delta t}{2}}}} \\right)^2.$$\n",
    "\n",
    "For the programming task write the corresponding Python functions that are asked in each section below."
   ]
  },
  {
   "cell_type": "markdown",
   "metadata": {},
   "source": [
    "**Return the solutions of the programming task $\\href{https://moodle.uni-wuppertal.de/mod/assign/view.php?id=516765}{{here}}$ until Thursday, May 21. The assignment can be done in groups of 1-2 persons. The solution should be presented within the following 2 weeks via an online arranged ZOOM meeting with M.Sc. Lorenc Kapllani.**"
   ]
  },
  {
   "cell_type": "markdown",
   "metadata": {},
   "source": [
    "## Write your data"
   ]
  },
  {
   "cell_type": "code",
   "execution_count": 147,
   "metadata": {},
   "outputs": [
    {
     "name": "stdout",
     "output_type": "stream",
     "text": [
      "First Name: Zhirui\n",
      "Sure Name: Tang\n",
      "Matriculation number: 1942800\n",
      "E-mail: zhirui.tang@uni-wuppertal.de\n",
      "Degree Type: Master\n",
      "Degree Name: Master of Science in Computer Simulation in Science\n"
     ]
    }
   ],
   "source": [
    "print(\"First Name: \"+\"Zhirui\")\n",
    "print(\"Sure Name: \"+\"Tang\")\n",
    "print(\"Matriculation number: \" +\"1942800\")\n",
    "print(\"E-mail: \"+\"zhirui.tang@uni-wuppertal.de\")\n",
    "print(\"Degree Type: \"+\"Master\") # Bachelor or Master\n",
    "print(\"Degree Name: \"+\"Master of Science in Computer Simulation in Science\") # E.g. Master of Science in Computer Simulation in Science"
   ]
  },
  {
   "cell_type": "markdown",
   "metadata": {},
   "source": [
    "## Import all necessary modules"
   ]
  },
  {
   "cell_type": "code",
   "execution_count": 148,
   "metadata": {},
   "outputs": [],
   "source": [
    "import math\n",
    "import numpy as np"
   ]
  },
  {
   "cell_type": "markdown",
   "metadata": {},
   "source": [
    "## Test Parameters"
   ]
  },
  {
   "cell_type": "code",
   "execution_count": 224,
   "metadata": {},
   "outputs": [],
   "source": [
    "# Input parameters\n",
    "sigma = 0.2\n",
    "K = 100\n",
    "S0 = 100\n",
    "N = 4\n",
    "r = 0.05\n",
    "T = 1\n",
    "d_t = T / N"
   ]
  },
  {
   "cell_type": "markdown",
   "metadata": {},
   "source": [
    "# Start coding\n",
    "**Note:** \n",
    "* Add code where you find the comment \"# Add code here\"\n",
    "* Get the same output as it is presented in the Markdown text **Expected Output:**"
   ]
  },
  {
   "cell_type": "markdown",
   "metadata": {},
   "source": [
    "## Define a function to calculate the up and down factors"
   ]
  },
  {
   "cell_type": "code",
   "execution_count": 150,
   "metadata": {},
   "outputs": [],
   "source": [
    "def calc_ud(sigma, d_t):\n",
    "    \"\"\"\n",
    "    Function that calculates the factors in the trinomial model\n",
    "\n",
    "    Input: sigma -> volatility \n",
    "            d_t  -> time step size\n",
    "\n",
    "    Output: u -> upward movement\n",
    "            d -> downward movement\n",
    "\n",
    "    \"\"\"\n",
    "    # Add code here\n",
    "    u = math.exp(sigma*math.sqrt(2*d_t))\n",
    "    d = math.exp(-sigma*math.sqrt(2*d_t))\n",
    "    return u, d"
   ]
  },
  {
   "cell_type": "code",
   "execution_count": 152,
   "metadata": {},
   "outputs": [
    {
     "name": "stdout",
     "output_type": "stream",
     "text": [
      "u = 1.151910, d = 0.868123\n"
     ]
    }
   ],
   "source": [
    "# Calculate upward and downward movements\n",
    "# Add code here\n",
    "[u, d] = calc_ud(sigma, d_t)\n",
    "print('u = %.6f,' %u, 'd = %.6f' %d) #looks no good "
   ]
  },
  {
   "cell_type": "markdown",
   "metadata": {},
   "source": [
    "**Expected Output:**\n",
    "`u = 1.151910, d = 0.868123`"
   ]
  },
  {
   "cell_type": "markdown",
   "metadata": {},
   "source": [
    "## Define a function to calculate the probabilities in the trinomial model"
   ]
  },
  {
   "cell_type": "code",
   "execution_count": 153,
   "metadata": {},
   "outputs": [],
   "source": [
    "def calc_prob(r, sigma, d_t):\n",
    "    \"\"\"\n",
    "    Function that calculates the probabilities in the trinomial model\n",
    "\n",
    "    Input: r     -> interest rate\n",
    "           sigma -> volatility\n",
    "           d_t   -> time step size\n",
    "\n",
    "    Output: p_u -> probability for upward movement\n",
    "            p_d -> probability for downward movement\n",
    "            p_m -> probability for no change\n",
    "\n",
    "    \"\"\"\n",
    "    # Add code here\n",
    "    x1 = math.exp(sigma*math.sqrt(d_t/2))\n",
    "    x2 = math.exp(-sigma*math.sqrt(d_t/2))\n",
    "    y = math.exp(r*d_t/2)\n",
    "    p_u = ((y-x2)/(x1-x2))**2\n",
    "    p_d = ((x1-y)/(x1-x2))**2\n",
    "    p_m = 1 - p_u - p_d\n",
    "    return p_u, p_d, p_m"
   ]
  },
  {
   "cell_type": "code",
   "execution_count": 154,
   "metadata": {},
   "outputs": [
    {
     "name": "stdout",
     "output_type": "stream",
     "text": [
      "p_u = 0.277334, p_d = 0.224084, p_m = 0.498582\n"
     ]
    }
   ],
   "source": [
    "# Calculate probabilities\n",
    "# Add code here\n",
    "[p_u, p_d, p_m] = calc_prob(r, sigma, d_t)\n",
    "print('p_u = %.6f,' %p_u, 'p_d = %.6f,' %p_d, 'p_m = %.6f' %p_m)"
   ]
  },
  {
   "cell_type": "markdown",
   "metadata": {},
   "source": [
    "**Expected Output:**\n",
    "`p_u = 0.277334, p_d = 0.224084, p_m = 0.498582`"
   ]
  },
  {
   "cell_type": "markdown",
   "metadata": {},
   "source": [
    "## Define a function to calculate the stock prices in the trinomial model"
   ]
  },
  {
   "cell_type": "code",
   "execution_count": 155,
   "metadata": {},
   "outputs": [],
   "source": [
    "def stock_price_trinom(S0, N, u, d):\n",
    "    \n",
    "    \"\"\"\n",
    "    Function that calculates the stock prices in the trinomial model\n",
    "    \n",
    "    Input: S0 -> Initial Stock Price\n",
    "           u  -> upward movement\n",
    "           d  -> downward movement\n",
    "           N  -> Number of time periods\n",
    "       \n",
    "    Output: S -> Upper triangular matrix of Stock prices with tirnomial model\n",
    "    \"\"\"\n",
    "    # Add code here\n",
    "    St = np.zeros([2*N+1,N+1])\n",
    "    #Python indexing starts at 0, not 1.\n",
    "    St[0][0] = S0\n",
    "    for i in range(N):\n",
    "        for k in range(2*i+1):\n",
    "            St[k][i+1] = St[k][i]*u\n",
    "            St[k+1][i+1] = St[k][i]\n",
    "            St[k+2][i+1] = St[k][i]*d\n",
    "    return St\n",
    "            "
   ]
  },
  {
   "cell_type": "code",
   "execution_count": 202,
   "metadata": {},
   "outputs": [
    {
     "name": "stdout",
     "output_type": "stream",
     "text": [
      "Stock Price\n",
      " [[100.         115.19099102 132.68964411 152.84651603 176.06541655]\n",
      " [  0.         100.         115.19099102 132.68964411 152.84651603]\n",
      " [  0.          86.81234454 100.         115.19099102 132.68964411]\n",
      " [  0.           0.          86.81234454 100.         115.19099102]\n",
      " [  0.           0.          75.36383164  86.81234454 100.        ]\n",
      " [  0.           0.           0.          75.36383164  86.81234454]\n",
      " [  0.           0.           0.          65.42510919  75.36383164]\n",
      " [  0.           0.           0.           0.          65.42510919]\n",
      " [  0.           0.           0.           0.          56.7970712 ]]\n"
     ]
    }
   ],
   "source": [
    "# Calculate stock prices\n",
    "S = stock_price_trinom(S0, N, u, d)\n",
    "print(\"Stock Price\\n\", S)"
   ]
  },
  {
   "cell_type": "markdown",
   "metadata": {},
   "source": [
    "**Expected Output:**\n",
    "\n",
    "`Stock Prices`\n",
    "\n",
    "`[[100.         115.19099102 132.68964411 152.84651603 176.06541655]\n",
    " [  0.         100.         115.19099102 132.68964411 152.84651603]\n",
    " [  0.          86.81234454 100.         115.19099102 132.68964411]\n",
    " [  0.           0.          86.81234454 100.         115.19099102]\n",
    " [  0.           0.          75.36383164  86.81234454 100.        ]\n",
    " [  0.           0.           0.          75.36383164  86.81234454]\n",
    " [  0.           0.           0.          65.42510919  75.36383164]\n",
    " [  0.           0.           0.           0.          65.42510919]\n",
    " [  0.           0.           0.           0.          56.7970712 ]]`"
   ]
  },
  {
   "cell_type": "markdown",
   "metadata": {},
   "source": [
    "## Define a function to calculate the European option price using trinomial model"
   ]
  },
  {
   "cell_type": "code",
   "execution_count": 227,
   "metadata": {},
   "outputs": [],
   "source": [
    "def priceTriEuro(N, K, r, S, p_u, p_d, p_m, d_t):\n",
    "    \"\"\"\n",
    "    Function that calculates the European option price using trinomial model\n",
    "    \n",
    "    Input: N     -> Number of time periods\n",
    "           K     -> Strike price\n",
    "           r     -> Interst rate\n",
    "           S     -> Upper triangular matrix\n",
    "           p_u   -> probability for upward movement\n",
    "           p_d   -> probability for downward movement\n",
    "           p_m   -> probability for no change\n",
    "           d_t   -> time step size\n",
    "       \n",
    "    Output: C -> European Call option \n",
    "            P -> European Put option \n",
    "\n",
    "    \"\"\"\n",
    "    # Add code here\n",
    "    #Initialization\n",
    "    C = np.zeros([2*N+1, N+1])\n",
    "    P = np.zeros([2*N+1, N+1])\n",
    "    \n",
    "    #Computation of the payoff\n",
    "    for i in range(2*N+1):\n",
    "        sk = S[i][N] - K\n",
    "        if abs(sk) < 1e-8:\n",
    "            sk = 0\n",
    "        C[i][N] = max(sk, 0)\n",
    "        P[i][N] = max(-sk, 0)\n",
    "    \n",
    "    #Backward iteration\n",
    "    for i in range(N, 0, -1):\n",
    "        for k in range(2*i-1):\n",
    "            C[k][i-1] = math.exp(-d_t*r)*(p_u*C[k][i] + p_m*C[k+1][i] + p_d*C[k+2][i])\n",
    "            P[k][i-1] = math.exp(-d_t*r)*(p_u*P[k][i] + p_m*P[k+1][i] + p_d*P[k+2][i])\n",
    "    Vp=P[0][0]\n",
    "    \n",
    "    return C, P, Vp"
   ]
  },
  {
   "cell_type": "code",
   "execution_count": 229,
   "metadata": {},
   "outputs": [
    {
     "name": "stdout",
     "output_type": "stream",
     "text": [
      "European Call\n",
      "\n",
      " [[10.20509942 20.0925775  35.15865291 54.08873598 76.06541655]\n",
      " [ 0.          8.49087322 18.30584772 33.93186407 52.84651603]\n",
      " [ 0.          2.35495086  6.54953395 16.43321097 32.68964411]\n",
      " [ 0.          0.          1.13955621  4.16064756 15.19099102]\n",
      " [ 0.          0.          0.          0.          0.        ]\n",
      " [ 0.          0.          0.          0.          0.        ]\n",
      " [ 0.          0.          0.          0.          0.        ]\n",
      " [ 0.          0.          0.          0.          0.        ]\n",
      " [ 0.          0.          0.          0.          0.        ]] \n",
      "\n",
      "European Put\n",
      "\n",
      " [[ 5.32804187  1.22102826  0.          0.          0.        ]\n",
      " [ 0.          4.810315    0.64584791  0.          0.        ]\n",
      " [ 0.         11.86204809  4.08052515  0.          0.        ]\n",
      " [ 0.          0.         11.85820287  2.91842761  0.        ]\n",
      " [ 0.          0.         22.16715956 11.94543551  0.        ]\n",
      " [ 0.          0.          0.         23.39394841 13.18765546]\n",
      " [ 0.          0.          0.         33.33267086 24.63616836]\n",
      " [ 0.          0.          0.          0.         34.57489081]\n",
      " [ 0.          0.          0.          0.         43.2029288 ]] \n",
      "\n"
     ]
    }
   ],
   "source": [
    "# Calculate European call and put values\n",
    "# Add code here\n",
    "C, P, _ = priceTriEuro(N, K, r, S, p_u, p_d, p_m, d_t)\n",
    "print(\"European Call\\n\\n\", C, '\\n')\n",
    "print(\"European Put\\n\\n\", P, '\\n')"
   ]
  },
  {
   "cell_type": "markdown",
   "metadata": {},
   "source": [
    "**Expected Output:**\n",
    "\n",
    "`European Call`\n",
    "\n",
    "`[[10.20509942 20.0925775  35.15865291 54.08873598 76.06541655]\n",
    " [ 0.          8.49087322 18.30584772 33.93186407 52.84651603]\n",
    " [ 0.          2.35495086  6.54953395 16.43321097 32.68964411]\n",
    " [ 0.          0.          1.13955621  4.16064756 15.19099102]\n",
    " [ 0.          0.          0.          0.          0.        ]\n",
    " [ 0.          0.          0.          0.          0.        ]\n",
    " [ 0.          0.          0.          0.          0.        ]\n",
    " [ 0.          0.          0.          0.          0.        ]\n",
    " [ 0.          0.          0.          0.          0.        ]]`\n",
    "\n",
    "`European Put`\n",
    "\n",
    "`[[ 5.32804187  1.22102826  0.          0.          0.        ]\n",
    " [ 0.          4.810315    0.64584791  0.          0.        ]\n",
    " [ 0.         11.86204809  4.08052515  0.          0.        ]\n",
    " [ 0.          0.         11.85820287  2.91842761  0.        ]\n",
    " [ 0.          0.         22.16715956 11.94543551  0.        ]\n",
    " [ 0.          0.          0.         23.39394841 13.18765546]\n",
    " [ 0.          0.          0.         33.33267086 24.63616836]\n",
    " [ 0.          0.          0.          0.         34.57489081]\n",
    " [ 0.          0.          0.          0.         43.2029288 ]]`"
   ]
  },
  {
   "cell_type": "markdown",
   "metadata": {},
   "source": [
    "## Define a function to calculate the American option price using trinomial model"
   ]
  },
  {
   "cell_type": "code",
   "execution_count": 225,
   "metadata": {},
   "outputs": [],
   "source": [
    "def priceTriAmer(N, K, r, S, p_u, p_d, p_m, d_t):\n",
    "    \"\"\"\n",
    "    Function that calculates the American option price using trinomial model\n",
    "    \n",
    "    Input: N     -> Number of time periods\n",
    "           K     -> Strike price\n",
    "           r     -> Interst rate\n",
    "           S     -> Upper triangular matrix\n",
    "           p_u   -> probability for upward movement\n",
    "           p_d   -> probability for downward movement\n",
    "           p_m   -> probability for no change\n",
    "           d_t   -> time step size\n",
    "       \n",
    "    Output: C -> American Call option \n",
    "            P -> American Put option \n",
    "\n",
    "    \"\"\"\n",
    "    # Add code here\n",
    "    #Initialization\n",
    "    C = np.zeros([2*N+1, N+1])\n",
    "    P = np.zeros([2*N+1, N+1])\n",
    "    \n",
    "    #Computation of the payoff\n",
    "    for i in range(2*N+1):\n",
    "        sk = S[i][N] - K\n",
    "        if abs(sk) < 1e-8:\n",
    "            sk = 0\n",
    "        C[i][N] = max(sk, 0)\n",
    "        P[i][N] = max(-sk, 0)\n",
    "    \n",
    "    #Backward iteration\n",
    "    for i in range(N, 0, -1):\n",
    "        for k in range(2*i-1):\n",
    "            sk = S[k][i-1]-K\n",
    "            if abs(sk) < 1e-8:\n",
    "                sk = 0\n",
    "            Cf = math.exp(-d_t*r)*(p_u*C[k][i] + p_m*C[k+1][i] + p_d*C[k+2][i])\n",
    "            C[k][i-1] = max(max(sk,0), Cf)\n",
    "            \n",
    "            Pf = math.exp(-d_t*r)*(p_u*P[k][i] + p_m*P[k+1][i] + p_d*P[k+2][i])\n",
    "            P[k][i-1] = max(max(-sk,0), Pf)\n",
    "    Vp=P[0][0]\n",
    "    \n",
    "    return C, P, Vp"
   ]
  },
  {
   "cell_type": "code",
   "execution_count": 230,
   "metadata": {},
   "outputs": [
    {
     "name": "stdout",
     "output_type": "stream",
     "text": [
      "American Call\n",
      "\n",
      " [[10.20509942 20.0925775  35.15865291 54.08873598 76.06541655]\n",
      " [ 0.          8.49087322 18.30584772 33.93186407 52.84651603]\n",
      " [ 0.          2.35495086  6.54953395 16.43321097 32.68964411]\n",
      " [ 0.          0.          1.13955621  4.16064756 15.19099102]\n",
      " [ 0.          0.          0.          0.          0.        ]\n",
      " [ 0.          0.          0.          0.          0.        ]\n",
      " [ 0.          0.          0.          0.          0.        ]\n",
      " [ 0.          0.          0.          0.          0.        ]\n",
      " [ 0.          0.          0.          0.          0.        ]] \n",
      "\n",
      "American Put\n",
      "\n",
      " [[ 5.84957502  1.28186433  0.          0.          0.        ]\n",
      " [ 0.          5.23988204  0.64584791  0.          0.        ]\n",
      " [ 0.         13.18765546  4.35542837  0.          0.        ]\n",
      " [ 0.          0.         13.18765546  2.91842761  0.        ]\n",
      " [ 0.          0.         24.63616836 13.18765546  0.        ]\n",
      " [ 0.          0.          0.         24.63616836 13.18765546]\n",
      " [ 0.          0.          0.         34.57489081 24.63616836]\n",
      " [ 0.          0.          0.          0.         34.57489081]\n",
      " [ 0.          0.          0.          0.         43.2029288 ]] \n",
      "\n"
     ]
    }
   ],
   "source": [
    "# Calculate American call and put values\n",
    "# Add code here\n",
    "C, P, _ = priceTriAmer(N, K, r, S, p_u, p_d, p_m, d_t)\n",
    "print(\"American Call\\n\\n\", C, '\\n')\n",
    "print(\"American Put\\n\\n\", P, '\\n')"
   ]
  },
  {
   "cell_type": "markdown",
   "metadata": {},
   "source": [
    "**Expected Output:**\n",
    "\n",
    "`American Call`\n",
    "\n",
    "`[[10.20509942 20.0925775  35.15865291 54.08873598 76.06541655]\n",
    " [ 0.          8.49087322 18.30584772 33.93186407 52.84651603]\n",
    " [ 0.          2.35495086  6.54953395 16.43321097 32.68964411]\n",
    " [ 0.          0.          1.13955621  4.16064756 15.19099102]\n",
    " [ 0.          0.          0.          0.          0.        ]\n",
    " [ 0.          0.          0.          0.          0.        ]\n",
    " [ 0.          0.          0.          0.          0.        ]\n",
    " [ 0.          0.          0.          0.          0.        ]\n",
    " [ 0.          0.          0.          0.          0.        ]]`\n",
    "\n",
    "`American Put`\n",
    "\n",
    "`[[ 5.84957502  1.28186433  0.          0.          0.        ]\n",
    " [ 0.          5.23988204  0.64584791  0.          0.        ]\n",
    " [ 0.         13.18765546  4.35542837  0.          0.        ]\n",
    " [ 0.          0.         13.18765546  2.91842761  0.        ]\n",
    " [ 0.          0.         24.63616836 13.18765546  0.        ]\n",
    " [ 0.          0.          0.         24.63616836 13.18765546]\n",
    " [ 0.          0.          0.         34.57489081 24.63616836]\n",
    " [ 0.          0.          0.          0.         34.57489081]\n",
    " [ 0.          0.          0.          0.         43.2029288 ]]`"
   ]
  },
  {
   "cell_type": "markdown",
   "metadata": {},
   "source": [
    "## Comparing European and American option values calculated with Trinomial Model from the exact Solution"
   ]
  },
  {
   "cell_type": "code",
   "execution_count": 245,
   "metadata": {},
   "outputs": [
    {
     "name": "stdout",
     "output_type": "stream",
     "text": [
      "N        E_P_ex           E_P_app          err_E_P          A_P_ex           A_P_app          err_A_P         \n",
      "---------------------------------------------------------------------------------------------------------\n",
      "4        5.573500         5.328042         2.454581E-01     6.062400         5.849575         2.128250E-01    \n",
      "16       5.573500         5.511288         6.221195E-02     6.062400         6.031125         3.127492E-02    \n",
      "64       5.573500         5.557919         1.558139E-02     6.062400         6.077022         1.462235E-02    \n",
      "256      5.573500         5.569621         3.878723E-03     6.062400         6.087340         2.493992E-02    \n",
      "512      5.573500         5.571573         1.926589E-03     6.062400         6.088906         2.650645E-02    \n",
      "1024     5.573500         5.572550         9.503432E-04     6.062400         6.089652         2.725172E-02    \n"
     ]
    }
   ],
   "source": [
    "# Calculate European and American put values for different N and compare to exact solution\n",
    "# Exact Values\n",
    "E_P_ex = 5.5735\n",
    "A_P_ex = 6.0624\n",
    "N = [4, 16, 64, 256, 512, 1024]\n",
    "\n",
    "# Add code here\n",
    "print('%-8s' %\"N\", '%-16s' %\"E_P_ex\", '%-16s' %\"E_P_app\", '%-16s' %\"err_E_P\", \\\n",
    "      '%-16s' %\"A_P_ex\", '%-16s' %\"A_P_app\", '%-16s' %\"err_A_P\")\n",
    "print('---------------------------------------------------------------------------------------------------------')\n",
    "\n",
    "for n in N:\n",
    "    d_t = T / n\n",
    "    [u, d] = calc_ud(sigma, d_t)\n",
    "    [p_u, p_d, p_m] = calc_prob(r, sigma, d_t)\n",
    "    S = stock_price_trinom(S0, n, u, d)\n",
    "    _, _, E_P_app = priceTriEuro(n, K, r, S, p_u, p_d, p_m, d_t) \n",
    "    _, _, A_P_app = priceTriAmer(n, K, r, S, p_u, p_d, p_m, d_t)\n",
    "    print('%-8s' %n, '%-16.6f' %E_P_ex, '%-16.6f' %E_P_app, '%-16.6E' %abs(E_P_ex-E_P_app),\\\n",
    "          '%-16.6f' %A_P_ex, '%-16.6f' %A_P_app, '%-16.6E' %abs(A_P_ex-A_P_app))\n"
   ]
  },
  {
   "cell_type": "markdown",
   "metadata": {},
   "source": [
    "**Expected Output:**\n",
    "![title](trinom_tree.png)"
   ]
  },
  {
   "cell_type": "code",
   "execution_count": null,
   "metadata": {},
   "outputs": [],
   "source": [
    "# feel free to use this cell for additional tests"
   ]
  },
  {
   "cell_type": "code",
   "execution_count": null,
   "metadata": {},
   "outputs": [],
   "source": [
    "# feel free to use this cell for additional tests"
   ]
  },
  {
   "cell_type": "code",
   "execution_count": null,
   "metadata": {},
   "outputs": [],
   "source": [
    "# feel free to use this cell for additional tests"
   ]
  },
  {
   "cell_type": "code",
   "execution_count": null,
   "metadata": {},
   "outputs": [],
   "source": [
    "# feel free to use this cell for additional tests"
   ]
  },
  {
   "cell_type": "code",
   "execution_count": null,
   "metadata": {},
   "outputs": [],
   "source": [
    "# feel free to use this cell for additional tests"
   ]
  }
 ],
 "metadata": {
  "kernelspec": {
   "display_name": "Python 3",
   "language": "python",
   "name": "python3"
  },
  "language_info": {
   "codemirror_mode": {
    "name": "ipython",
    "version": 3
   },
   "file_extension": ".py",
   "mimetype": "text/x-python",
   "name": "python",
   "nbconvert_exporter": "python",
   "pygments_lexer": "ipython3",
   "version": "3.7.6"
  }
 },
 "nbformat": 4,
 "nbformat_minor": 4
}
