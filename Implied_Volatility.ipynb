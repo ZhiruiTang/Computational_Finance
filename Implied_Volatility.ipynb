{
 "cells": [
  {
   "cell_type": "markdown",
   "metadata": {},
   "source": [
    "# Computational Finance I\n",
    "**Lab-Exercise No. 2**\n"
   ]
  },
  {
   "cell_type": "markdown",
   "metadata": {},
   "source": [
    "## Write your data"
   ]
  },
  {
   "cell_type": "code",
   "execution_count": 1,
   "metadata": {},
   "outputs": [
    {
     "name": "stdout",
     "output_type": "stream",
     "text": [
      "First Name:  Zhirui\n",
      "Sure Name:  Tang\n",
      "Matriculation number:  1942800\n",
      "E-mail:  zhirui.tang@uni-wuppertal.de\n",
      "Degree Type:  Master\n",
      "Degree Name:  Master of Science in Computer Simulation in Science\n"
     ]
    }
   ],
   "source": [
    "print(\"First Name: \", \"Zhirui\")\n",
    "print(\"Sure Name: \", \"Tang\")\n",
    "print(\"Matriculation number: \", \"1942800\")\n",
    "print(\"E-mail: \", \"zhirui.tang@uni-wuppertal.de\")\n",
    "print(\"Degree Type: \", \"Master\") # Bachelor or Master\n",
    "print(\"Degree Name: \", \"Master of Science in Computer Simulation in Science\") # E.g. Master of Science in Computer Simulation in Science"
   ]
  },
  {
   "cell_type": "markdown",
   "metadata": {},
   "source": [
    "# For the programming task write the corresponding Python codes that are asked in each section below."
   ]
  },
  {
   "cell_type": "markdown",
   "metadata": {},
   "source": [
    "# P2: Implied volatility\n",
    "In the lecture we mentioned that the volatility of stock can not be directly observed.\n",
    "Given option prices observed in the market, the volatility can be computed using Black-Scholes formula.\n",
    "We will use the Newton-Raphson method to calculate the implied volatility."
   ]
  },
  {
   "cell_type": "markdown",
   "metadata": {},
   "source": [
    "## Import all necessary modules"
   ]
  },
  {
   "cell_type": "code",
   "execution_count": 4,
   "metadata": {},
   "outputs": [],
   "source": [
    "from math import *\n",
    "import numpy as np\n",
    "import matplotlib.pyplot as plt\n",
    "import scipy.optimize as opt\n",
    "from scipy.stats import norm"
   ]
  },
  {
   "cell_type": "markdown",
   "metadata": {},
   "source": [
    "# Start coding\n",
    "**Note:** \n",
    "* Add code where you find the comment \"# Add code here\"\n",
    "* Get the same output as it is presented in the Markdown text **Expected Output:**"
   ]
  },
  {
   "cell_type": "markdown",
   "metadata": {},
   "source": [
    "## Define a function to calculate implied volatiliry using Newton-Raphson method"
   ]
  },
  {
   "cell_type": "code",
   "execution_count": 5,
   "metadata": {},
   "outputs": [],
   "source": [
    "def impvol(S, r, T, K, C_market, sigma_0, tol):\n",
    "\n",
    "    \"\"\"\n",
    "    Function that calculates implied volatility using Newton-Raphson method\n",
    "    \n",
    "        sigma(k+1) = sigma(k) - (C(sigma(k))- C_market)/k, #k kappa\n",
    "    \n",
    "    where sigma0 is an initial guess of volatility\n",
    "\n",
    "    Input: \n",
    "          S       -> Stock price\n",
    "          r       -> Interest rate\n",
    "          T       -> Maturity\n",
    "          K       -> Strike price\n",
    "          C_market-> European option value (given)\n",
    "          sigma_0 -> initial guess of implied volatility\n",
    "          tol     -> tolerance for NR method\n",
    "\n",
    "    Output:\n",
    "         im_sigma -> Implied volatility\n",
    "    \"\"\"\n",
    "    # Add code here\n",
    "    sigma_o = 10000\n",
    "    sigma_n = sigma_0\n",
    "    while abs(sigma_n - sigma_o) > tol:\n",
    "        sigma_o = sigma_n\n",
    "        d_1 = (log(S/K) + (r+0.5*sigma_o**2)*T) / (sigma_o*sqrt(T))\n",
    "        d_2 = (log(S/K) + (r-0.5*sigma_o**2)*T) / (sigma_o*sqrt(T))\n",
    "        C = S * norm.cdf(d_1) - K*exp(-r*T)*norm.cdf(d_2)\n",
    "        vega = S * norm.pdf(d_1) * sqrt(T)\n",
    "        sigma_n = sigma_o - (C-C_market) / vega\n",
    "        #K or vega both ok? I got tiny difference result using both them\n",
    "    return sigma_n"
   ]
  },
  {
   "cell_type": "markdown",
   "metadata": {},
   "source": [
    "Let $S=129,\\,r=0,\\,T=30/360.$ Test your code using the given market prices of European calls in the following table.\n",
    "![title](table1.png)\n",
    "For the Newton-Raphson method, use a tolerance of $10^{-10}$."
   ]
  },
  {
   "cell_type": "markdown",
   "metadata": {},
   "source": [
    "## Input parameters"
   ]
  },
  {
   "cell_type": "code",
   "execution_count": 7,
   "metadata": {},
   "outputs": [],
   "source": [
    "# Input parameters\n",
    "sigma_0 = 0.1\n",
    "K = [*range(124, 137, 1)]\n",
    "S0 = 129\n",
    "r = 0\n",
    "T = 30/360\n",
    "C_market = [6.03, 5.23, 4.49, 3.79, 3.14, 2.55, 2.02, 1.59, 1.26, 1.00, 0.81, 0.67, 0.55]\n",
    "tol = 1e-10"
   ]
  },
  {
   "cell_type": "markdown",
   "metadata": {},
   "source": [
    "## Test the code based on above data: plot the graph, what do you observe?"
   ]
  },
  {
   "cell_type": "code",
   "execution_count": 8,
   "metadata": {},
   "outputs": [
    {
     "data": {
      "text/plain": [
       "Text(0.5, 0, 'Strike price')"
      ]
     },
     "execution_count": 8,
     "metadata": {},
     "output_type": "execute_result"
    },
    {
     "data": {
      "image/png": "[encoded data removed]",
      "text/plain": [
       "<Figure size 432x288 with 1 Axes>"
      ]
     },
     "metadata": {
      "needs_background": "light"
     },
     "output_type": "display_data"
    }
   ],
   "source": [
    "# Implement impvol function to calculate the implied volatility for each strike price and option price\n",
    "# Add code here\n",
    "imp=[]\n",
    "for i in range(len(C_market)):\n",
    "    imp.append(impvol(S0, r, T, K[i], C_market[i], sigma_0, tol))\n",
    "plt.plot(K, imp)\n",
    "plt.title(\"Implied volatility for different strik price values\")\n",
    "plt.ylabel(\"Implied volatility\")\n",
    "plt.xlabel(\"Strike price\")"
   ]
  },
  {
   "cell_type": "markdown",
   "metadata": {},
   "source": [
    "### Will the implied volatilities using the corresponding market prices of European puts be same?"
   ]
  },
  {
   "cell_type": "code",
   "execution_count": 36,
   "metadata": {},
   "outputs": [
    {
     "name": "stdout",
     "output_type": "stream",
     "text": [
      "Taking away all frictions and imcompleteness of the market also the arbitrage situation, according to the Put-Call parity, we know that the V_PC is affected by V_EC, and the Put-Call parity holds if and only if the implied volatilities of put and call are the same.\n"
     ]
    }
   ],
   "source": [
    "# Answer with a print statement\n",
    "# Add code here\n",
    "print(\"Taking away all frictions and imcompleteness of the market also the arbitrage situation, \\\n",
    "according to the Put-Call parity, we know that the V_PC is affected by V_EC, and the Put-Call parity holds \\\n",
    "if and only if the implied volatilities of put and call are the same.\")"
   ]
  },
  {
   "cell_type": "markdown",
   "metadata": {},
   "source": [
    "In the lecture we have seen that the Black-Scholes model can be extended by including a time-dependent volatility function. Given the volatility function\n",
    "$$ \\sigma(t) = \\sigma_0 \\exp(−at) + b(1−\\exp(−at)),$$ \n",
    "ﬁnd the optimal value of parameters $\\sigma_0, a, b$ by ﬁtting the prices of the extended BS-formula to the market prices given in the following table, where $S = 129, r = 0, K = 129$. For the ﬁtting you can use any optimization method, e.g., least squares.\n",
    "![title](table2.png)\n",
    "\n",
    "Plot a graph of the volatility function using the obtained optimal parameter values and compare it to the corresponding implied volatility for diﬀerent maturities."
   ]
  },
  {
   "cell_type": "markdown",
   "metadata": {},
   "source": [
    "## New input"
   ]
  },
  {
   "cell_type": "code",
   "execution_count": 9,
   "metadata": {},
   "outputs": [],
   "source": [
    "# New input\n",
    "Time = [1/12, 1/4, 1/2, 1]\n",
    "Value = [2.55, 4.49, 6.70, 10.13]\n",
    "Price = 129\n",
    "Strike = 129\n",
    "Rate = 0\n",
    "Sigma_0 = 0.2\n",
    "Tol = 1e-10"
   ]
  },
  {
   "cell_type": "markdown",
   "metadata": {},
   "source": [
    "## Apply NR for the new input"
   ]
  },
  {
   "cell_type": "code",
   "execution_count": 10,
   "metadata": {},
   "outputs": [
    {
     "data": {
      "text/plain": [
       "Text(0.5, 0, 'Time')"
      ]
     },
     "execution_count": 10,
     "metadata": {},
     "output_type": "execute_result"
    },
    {
     "data": {
      "image/png": "[encoded data removed]",
      "text/plain": [
       "<Figure size 432x288 with 1 Axes>"
      ]
     },
     "metadata": {
      "needs_background": "light"
     },
     "output_type": "display_data"
    }
   ],
   "source": [
    "# Add code here\n",
    "imp=[]\n",
    "for i in range(len(Value)):\n",
    "    imp.append(impvol(Price, Rate, Time[i], Strike, Value[i], Sigma_0, Tol))\n",
    "plt.plot(Time, imp)\n",
    "plt.title(\"Implied volatility for different strik price values\")\n",
    "plt.ylabel(\"Implied volatility\")\n",
    "plt.xlabel(\"Time\")"
   ]
  },
  {
   "cell_type": "markdown",
   "metadata": {},
   "source": [
    "## Define a function for our given time dependent volatility "
   ]
  },
  {
   "cell_type": "code",
   "execution_count": 11,
   "metadata": {},
   "outputs": [],
   "source": [
    "def func(t, sigma_0, a, b):\n",
    "    \"\"\"\n",
    "    Function that creates the time dependent volatility function\n",
    "        sigma(t) = sigma_0 * exp(−a*t) + b*(1−exp(−a*t))\n",
    "    Input: \n",
    "          t       -> time\n",
    "          sigma_0 -> Parameter\n",
    "          a       -> Parameter\n",
    "          b       -> Parameter\n",
    "          \n",
    "    Output:\n",
    "         sigma(t) -> Time dependent volatility\n",
    "    \"\"\"\n",
    "    return sigma_0 * np.exp(-a*t) + b*(1-np.exp(-a*t))\n",
    "#pay attention for myself, scipy.optimize.curve_fit expects the model function to be vectorized: \n",
    "#that is, it must be able to receive an array (ndarray, to be precise),and return an array of values.\n",
    "#if I use math.exp, it cannot be handle with list, only real number. But np.exe can do\n",
    "    "
   ]
  },
  {
   "cell_type": "markdown",
   "metadata": {},
   "source": [
    "## Find optimal values using least squares method\n",
    "**Hint:`curve_fit()` function form scipy optimization library can be used**"
   ]
  },
  {
   "cell_type": "code",
   "execution_count": 14,
   "metadata": {},
   "outputs": [
    {
     "name": "stdout",
     "output_type": "stream",
     "text": [
      "sigma0 = 0.168393  a = 0.140053  b = 0.389579\n"
     ]
    }
   ],
   "source": [
    "#Time = np.array(Time)\n",
    "#imp = np.array(imp)\n",
    "popt, pcov = opt.curve_fit(func, Time, imp, method='lm')\n",
    "print('sigma0 = %.6f' %popt[0], ' a = %.6f' %popt[1], ' b = %.6f' %popt[2])"
   ]
  },
  {
   "cell_type": "markdown",
   "metadata": {},
   "source": [
    "**Expected Output:**\n",
    "\n",
    "`sigma0 = 0.168393`\n",
    " `a = 0.140051`\n",
    " `b = 0.389581`\n",
    " "
   ]
  },
  {
   "cell_type": "markdown",
   "metadata": {},
   "source": [
    "## Plotting our estimated volatility function"
   ]
  },
  {
   "cell_type": "code",
   "execution_count": 99,
   "metadata": {},
   "outputs": [
    {
     "data": {
      "image/png": "[encoded data removed]",
      "text/plain": [
       "<Figure size 432x288 with 1 Axes>"
      ]
     },
     "metadata": {
      "needs_background": "light"
     },
     "output_type": "display_data"
    }
   ],
   "source": [
    "# Add your code here\n",
    "t = np.linspace(1/12, 1, 50)\n",
    "y = func(t, popt[0], popt[1], popt[2])\n",
    "plt.plot(t, y, label='Fitted function')\n",
    "plt.scatter(Time, imp, label='Implied volatility', color='red')\n",
    "plt.title(\"Data and Fitted Curve\")\n",
    "plt.xlabel(\"Time\")\n",
    "plt.ylabel(\"Volality\")\n",
    "plt.legend()\n",
    "plt.show()"
   ]
  },
  {
   "cell_type": "code",
   "execution_count": null,
   "metadata": {},
   "outputs": [],
   "source": [
    "# feel free to use this cell for additional tests"
   ]
  },
  {
   "cell_type": "code",
   "execution_count": null,
   "metadata": {},
   "outputs": [],
   "source": [
    "# feel free to use this cell for additional tests"
   ]
  },
  {
   "cell_type": "code",
   "execution_count": null,
   "metadata": {},
   "outputs": [],
   "source": [
    "# feel free to use this cell for additional tests"
   ]
  },
  {
   "cell_type": "code",
   "execution_count": null,
   "metadata": {},
   "outputs": [],
   "source": [
    "# feel free to use this cell for additional tests"
   ]
  },
  {
   "cell_type": "code",
   "execution_count": null,
   "metadata": {},
   "outputs": [],
   "source": [
    "# feel free to use this cell for additional tests"
   ]
  }
 ],
 "metadata": {
  "kernelspec": {
   "display_name": "Python 3",
   "language": "python",
   "name": "python3"
  },
  "language_info": {
   "codemirror_mode": {
    "name": "ipython",
    "version": 3
   },
   "file_extension": ".py",
   "mimetype": "text/x-python",
   "name": "python",
   "nbconvert_exporter": "python",
   "pygments_lexer": "ipython3",
   "version": "3.7.6"
  }
 },
 "nbformat": 4,
 "nbformat_minor": 4
}
